{
 "cells": [
  {
   "cell_type": "code",
   "execution_count": 1,
   "id": "e7945892-16d0-45a4-81b9-6312820483b2",
   "metadata": {},
   "outputs": [
    {
     "name": "stdout",
     "output_type": "stream",
     "text": [
      "Nothing is impossible \n"
     ]
    }
   ],
   "source": [
    "# capitalize() \n",
    "\n",
    "s1 = 'nothing is impossible '\n",
    "a = (s1.capitalize())\n",
    "print (a)"
   ]
  },
  {
   "cell_type": "code",
   "execution_count": 27,
   "id": "b979b299-f739-4dcd-93ca-876ab96e45bc",
   "metadata": {},
   "outputs": [
    {
     "name": "stdout",
     "output_type": "stream",
     "text": [
      "nothing is impossible\n"
     ]
    }
   ],
   "source": [
    "# casefold()\n",
    "\n",
    "s2 = 'Nothing Is Impossible'\n",
    "b = (s2.casefold())\n",
    "print (b)"
   ]
  },
  {
   "cell_type": "code",
   "execution_count": 43,
   "id": "917403b6-6eb9-4a92-bf92-c929b747e2fb",
   "metadata": {},
   "outputs": [
    {
     "name": "stdout",
     "output_type": "stream",
     "text": [
      "####practice makes perfect####\n"
     ]
    }
   ],
   "source": [
    "# center()\n",
    "\n",
    "s3 = 'practice makes perfect'\n",
    "c = (s3.center(30,'#'))\n",
    "print (c)"
   ]
  },
  {
   "cell_type": "code",
   "execution_count": 45,
   "id": "dcb4500d-aede-4646-8e7a-6d0583490ac7",
   "metadata": {},
   "outputs": [
    {
     "name": "stdout",
     "output_type": "stream",
     "text": [
      "3\n"
     ]
    }
   ],
   "source": [
    "# count()\n",
    "\n",
    "s4 = 'Add your own ideas'\n",
    "d = (s4.count('d'))\n",
    "print (d)"
   ]
  },
  {
   "cell_type": "code",
   "execution_count": 47,
   "id": "cd022b2e-ed37-4244-865e-91f4a571c998",
   "metadata": {},
   "outputs": [
    {
     "name": "stdout",
     "output_type": "stream",
     "text": [
      "b'programming'\n"
     ]
    }
   ],
   "source": [
    "# encode()\n",
    "\n",
    "s5 = 'programming'\n",
    "e = (s5.encode())\n",
    "print (e)"
   ]
  },
  {
   "cell_type": "code",
   "execution_count": 69,
   "id": "b3a60089-26f6-4d6c-ac29-f8ae254cc4ed",
   "metadata": {},
   "outputs": [
    {
     "name": "stdout",
     "output_type": "stream",
     "text": [
      "False\n",
      "True\n"
     ]
    }
   ],
   "source": [
    "# endswith()\n",
    "\n",
    "s6 = 'Stay at home during lightning'\n",
    "f = (s6.endswith('home'))\n",
    "print (f)\n",
    "\n",
    "a = (s6.endswith('lightning'))\n",
    "print (a)"
   ]
  },
  {
   "cell_type": "code",
   "execution_count": 107,
   "id": "9da1a2d1-ce42-47dc-b801-6b873827fb09",
   "metadata": {},
   "outputs": [
    {
     "name": "stdout",
     "output_type": "stream",
     "text": [
      "It  was a wounderful  experience\n"
     ]
    }
   ],
   "source": [
    "# expandtabs()\n",
    "\n",
    "s7 = 'It\\twas\\ta\\twounderful\\texperience'\n",
    "g = (s7.expandtabs(2))\n",
    "print (g)\n"
   ]
  },
  {
   "cell_type": "code",
   "execution_count": 109,
   "id": "a78896b9-05be-4e4e-8502-4f5281c7602f",
   "metadata": {},
   "outputs": [
    {
     "name": "stdout",
     "output_type": "stream",
     "text": [
      "8\n"
     ]
    }
   ],
   "source": [
    "# find()\n",
    "\n",
    "s8 = 'This is first text'\n",
    "h = (s8.find('first'))\n",
    "print (h)"
   ]
  },
  {
   "cell_type": "code",
   "execution_count": 113,
   "id": "ee935e7f-ff53-48fb-94ee-0db5ca2fd7ae",
   "metadata": {},
   "outputs": [
    {
     "name": "stdout",
     "output_type": "stream",
     "text": [
      "Riya ate 4 apples today\n"
     ]
    }
   ],
   "source": [
    "# format()\n",
    "\n",
    "s9 = 'Riya ate 4 apples today'\n",
    "i = ('{} ate {} apples today'.format ('Riya',4))\n",
    "print (i)"
   ]
  },
  {
   "cell_type": "code",
   "execution_count": 115,
   "id": "8a1dd290-9852-4fca-869f-3fabd97106e0",
   "metadata": {},
   "outputs": [
    {
     "name": "stdout",
     "output_type": "stream",
     "text": [
      "4\n"
     ]
    }
   ],
   "source": [
    "# index()\n",
    "\n",
    "s10 = 'practice makes perfect'\n",
    "j = (s10.index('t'))\n",
    "print (j)"
   ]
  },
  {
   "cell_type": "code",
   "execution_count": 117,
   "id": "ceb224bf-1ba3-4660-af99-51f44bb05c20",
   "metadata": {},
   "outputs": [
    {
     "name": "stdout",
     "output_type": "stream",
     "text": [
      "True\n"
     ]
    }
   ],
   "source": [
    "# isalnum()\n",
    "\n",
    "s11 = 'python123'\n",
    "k = (s11.isalnum())\n",
    "print (k)"
   ]
  },
  {
   "cell_type": "code",
   "execution_count": 119,
   "id": "025a3a8a-9a05-4bdb-bcec-1045559d6ac3",
   "metadata": {},
   "outputs": [
    {
     "name": "stdout",
     "output_type": "stream",
     "text": [
      "True\n"
     ]
    }
   ],
   "source": [
    "# isalpha()\n",
    "\n",
    "s12 = 'python'\n",
    "l = (s12.isalpha())\n",
    "print (l)"
   ]
  },
  {
   "cell_type": "code",
   "execution_count": 148,
   "id": "b45aff72-fc77-40fd-b95a-73a663532e3f",
   "metadata": {},
   "outputs": [
    {
     "name": "stdout",
     "output_type": "stream",
     "text": [
      "True\n"
     ]
    }
   ],
   "source": [
    "# isascii()\n",
    "\n",
    "s13 = 'Jupyter'\n",
    "m = (s13.isascii())\n",
    "print (m)"
   ]
  },
  {
   "cell_type": "code",
   "execution_count": 156,
   "id": "36148ef2-d1c9-4762-bb63-46087f837e76",
   "metadata": {},
   "outputs": [
    {
     "name": "stdout",
     "output_type": "stream",
     "text": [
      "True\n"
     ]
    }
   ],
   "source": [
    "# isdecimal()\n",
    "\n",
    "s14 = '245'\n",
    "n = (s14.isdecimal())\n",
    "print (n)"
   ]
  },
  {
   "cell_type": "code",
   "execution_count": 158,
   "id": "e0c204a9-f054-4ddb-9616-76c27eef9ca3",
   "metadata": {},
   "outputs": [
    {
     "name": "stdout",
     "output_type": "stream",
     "text": [
      "True\n"
     ]
    }
   ],
   "source": [
    "# isdigit()\n",
    "\n",
    "s15 = '45464'\n",
    "o = (s15.isdigit())\n",
    "print (o)"
   ]
  },
  {
   "cell_type": "code",
   "execution_count": 164,
   "id": "8aa1d1fe-4d07-4d9c-9aa8-445f190fee6e",
   "metadata": {},
   "outputs": [
    {
     "name": "stdout",
     "output_type": "stream",
     "text": [
      "True\n"
     ]
    }
   ],
   "source": [
    "# isidentifier()\n",
    "\n",
    "s16 = 'demo222'\n",
    "p = (s16.isidentifier())\n",
    "print (p)"
   ]
  },
  {
   "cell_type": "code",
   "execution_count": 166,
   "id": "e49c46a1-459e-4405-a66f-0cd739eddc8a",
   "metadata": {},
   "outputs": [
    {
     "name": "stdout",
     "output_type": "stream",
     "text": [
      "True\n"
     ]
    }
   ],
   "source": [
    "# islower()\n",
    "\n",
    "s17 = 'practice makes perfect'\n",
    "q = (s17.islower())\n",
    "print (q)\n"
   ]
  },
  {
   "cell_type": "code",
   "execution_count": 172,
   "id": "5f70a445-7bdb-41af-8083-a599c51e8b50",
   "metadata": {},
   "outputs": [
    {
     "name": "stdout",
     "output_type": "stream",
     "text": [
      "True\n"
     ]
    }
   ],
   "source": [
    "# isnumeric()\n",
    "\n",
    "s18 = '67985'\n",
    "r = (s18.isnumeric())\n",
    "print (r)\n",
    "\n"
   ]
  },
  {
   "cell_type": "code",
   "execution_count": 178,
   "id": "4a6c0d1d-c977-4476-ac2f-75595e72ca5b",
   "metadata": {},
   "outputs": [
    {
     "name": "stdout",
     "output_type": "stream",
     "text": [
      "True\n"
     ]
    }
   ],
   "source": [
    "# isprintable()\n",
    "\n",
    "s19 = 'Hello! Are you ok ?'\n",
    "s = (s19.isprintable())\n",
    "print (s)\n"
   ]
  },
  {
   "cell_type": "code",
   "execution_count": 180,
   "id": "b345bf9d-0c7a-4783-bcff-371d20d205e6",
   "metadata": {},
   "outputs": [
    {
     "name": "stdout",
     "output_type": "stream",
     "text": [
      "True\n"
     ]
    }
   ],
   "source": [
    "# isspace()\n",
    "\n",
    "s20 = '   '\n",
    "t = (s20.isspace())\n",
    "print (t)"
   ]
  },
  {
   "cell_type": "code",
   "execution_count": 182,
   "id": "680deaf3-11fb-40a2-857c-cc1cb950126c",
   "metadata": {},
   "outputs": [
    {
     "name": "stdout",
     "output_type": "stream",
     "text": [
      "True\n"
     ]
    }
   ],
   "source": [
    "# istitle()\n",
    "\n",
    "s21 = 'Ritika'\n",
    "u = (s21.istitle())\n",
    "print (u)\n"
   ]
  },
  {
   "cell_type": "code",
   "execution_count": 186,
   "id": "854acf76-c5ab-420e-bf52-a429d0796b9e",
   "metadata": {},
   "outputs": [
    {
     "name": "stdout",
     "output_type": "stream",
     "text": [
      "True\n"
     ]
    }
   ],
   "source": [
    "# isupper()\n",
    "\n",
    "s22 = 'HELLO'\n",
    "v = (s22.isupper())\n",
    "print (v)"
   ]
  },
  {
   "cell_type": "code",
   "execution_count": 188,
   "id": "6b9584e2-61eb-465b-9a91-4b947973f373",
   "metadata": {},
   "outputs": [
    {
     "name": "stdout",
     "output_type": "stream",
     "text": [
      "Red#Black#Yellow\n"
     ]
    }
   ],
   "source": [
    "# join()\n",
    "\n",
    "s23 = ('Red','Black','Yellow')\n",
    "w = ('#'.join(s23))\n",
    "print (w)"
   ]
  },
  {
   "cell_type": "code",
   "execution_count": 192,
   "id": "c5364f69-5a25-41a2-8097-ef6ab33c48f1",
   "metadata": {},
   "outputs": [
    {
     "name": "stdout",
     "output_type": "stream",
     "text": [
      "Black is my favorite color.\n"
     ]
    }
   ],
   "source": [
    "# ljust()\n",
    "\n",
    "s24 = 'Black'\n",
    "x = (s24.ljust(2))\n",
    "print (x, 'is my favorite color.')\n",
    "     "
   ]
  },
  {
   "cell_type": "code",
   "execution_count": 194,
   "id": "237de625-4d22-41fb-9f17-38929096ef2c",
   "metadata": {},
   "outputs": [
    {
     "name": "stdout",
     "output_type": "stream",
     "text": [
      "nothing is impossible\n"
     ]
    }
   ],
   "source": [
    "# lower()\n",
    "\n",
    "s25 = 'Nothing Is Impossible'\n",
    "y = (s25.lower())\n",
    "print (y)"
   ]
  },
  {
   "cell_type": "code",
   "execution_count": 198,
   "id": "18c4234e-a00f-40a3-bab1-5b50bc77f7ff",
   "metadata": {},
   "outputs": [
    {
     "name": "stdout",
     "output_type": "stream",
     "text": [
      "STRANGER THINGS\n"
     ]
    }
   ],
   "source": [
    "# lstrip()\n",
    "\n",
    "s26 = '####STRANGER THINGS'\n",
    "z= (s26.lstrip('#'))\n",
    "print (z)"
   ]
  },
  {
   "cell_type": "code",
   "execution_count": 13,
   "id": "ab919206-248d-4436-adba-a2bdc2200545",
   "metadata": {},
   "outputs": [
    {
     "name": "stdout",
     "output_type": "stream",
     "text": [
      "Hello Jiya!\n"
     ]
    }
   ],
   "source": [
    "# maketrans()\n",
    "\n",
    "sent1 = 'Hello Riya!'\n",
    "mytable = str.maketrans('R','J')\n",
    "print(sent1.translate(mytable))"
   ]
  },
  {
   "cell_type": "code",
   "execution_count": 17,
   "id": "24f25295-94fd-4a7c-a88f-9e6c56017ffb",
   "metadata": {},
   "outputs": [
    {
     "name": "stdout",
     "output_type": "stream",
     "text": [
      "('Riya ate four ', 'apples', ' today')\n"
     ]
    }
   ],
   "source": [
    "# partition()\n",
    "\n",
    "sent2 = 'Riya ate four apples today'\n",
    "x1 = (sent2.partition('apples'))\n",
    "print (x1)"
   ]
  },
  {
   "cell_type": "code",
   "execution_count": 21,
   "id": "fff5901b-269b-48ce-9ecc-58d75aaa982d",
   "metadata": {},
   "outputs": [
    {
     "name": "stdout",
     "output_type": "stream",
     "text": [
      "This is bike. This is another bike\n"
     ]
    }
   ],
   "source": [
    "#  replace()\n",
    "\n",
    "sent3 = 'This is car. This is another car'\n",
    "x2 = (sent3.replace('car','bike',2))\n",
    "print (x2)"
   ]
  },
  {
   "cell_type": "code",
   "execution_count": 23,
   "id": "50c08bda-c8b1-45a8-b172-a06ccfbe871d",
   "metadata": {},
   "outputs": [
    {
     "name": "stdout",
     "output_type": "stream",
     "text": [
      "14\n"
     ]
    }
   ],
   "source": [
    "# rfind()\n",
    "\n",
    "sent4 =  'Add your own ideas'\n",
    "x3 = (sent4.rfind('d'))\n",
    "print (x3)"
   ]
  },
  {
   "cell_type": "code",
   "execution_count": 25,
   "id": "e50cc3bb-9ef1-4636-8d32-86f60e21063d",
   "metadata": {},
   "outputs": [
    {
     "name": "stdout",
     "output_type": "stream",
     "text": [
      "29\n"
     ]
    }
   ],
   "source": [
    "# rindex()\n",
    "\n",
    "sent5 = 'This is car. This is another car'\n",
    "x4 = (sent5.rindex('car'))\n",
    "print (x4)"
   ]
  },
  {
   "cell_type": "code",
   "execution_count": 39,
   "id": "bb26267b-4b9f-487d-bc84-cfbacc77d175",
   "metadata": {},
   "outputs": [
    {
     "name": "stdout",
     "output_type": "stream",
     "text": [
      "00000000Water Supply\n"
     ]
    }
   ],
   "source": [
    "# rjust()\n",
    "\n",
    "sent6 = 'Water Supply'\n",
    "x5 = (sent6.rjust(20,'0'))\n",
    "print (x5)"
   ]
  },
  {
   "cell_type": "code",
   "execution_count": 41,
   "id": "7336b961-bcbc-450f-9ec0-acfe4a043426",
   "metadata": {},
   "outputs": [
    {
     "name": "stdout",
     "output_type": "stream",
     "text": [
      "('Riya ', 'is', ' going to school')\n"
     ]
    }
   ],
   "source": [
    "# rpartition()\n",
    "\n",
    "sent7 = 'Riya is going to school'\n",
    "x6 = (sent7.rpartition('is'))\n",
    "print (x6)\n"
   ]
  },
  {
   "cell_type": "code",
   "execution_count": 49,
   "id": "6829a6ac-a974-4869-a6ad-3c5f79be587c",
   "metadata": {},
   "outputs": [
    {
     "name": "stdout",
     "output_type": "stream",
     "text": [
      "['Black, White', ' Pink', ' Blue', ' Red']\n"
     ]
    }
   ],
   "source": [
    "# rsplit()\n",
    "\n",
    "sent8 = 'Black, White, Pink, Blue, Red'\n",
    "x7 = (sent8.rsplit(\",\",3))\n",
    "print (x7)\n"
   ]
  },
  {
   "cell_type": "code",
   "execution_count": 51,
   "id": "aa737f91-1345-4aa2-9630-13141c5274ac",
   "metadata": {},
   "outputs": [
    {
     "name": "stdout",
     "output_type": "stream",
     "text": [
      "STRANGER THINGS\n"
     ]
    }
   ],
   "source": [
    "# rstrip()\n",
    "\n",
    "sent9 = 'STRANGER THINGS####'\n",
    "x8 = (sent9.rstrip('#'))\n",
    "print (x8)"
   ]
  },
  {
   "cell_type": "code",
   "execution_count": 55,
   "id": "7aeaa24c-3692-460b-8371-5a1480a4b0c1",
   "metadata": {},
   "outputs": [
    {
     "name": "stdout",
     "output_type": "stream",
     "text": [
      "['One', 'Two', 'Three', 'Four']\n"
     ]
    }
   ],
   "source": [
    "# split()\n",
    "\n",
    "sent10 = 'One##Two##Three##Four'\n",
    "x9 = (sent10.split('##'))\n",
    "print (x9)"
   ]
  },
  {
   "cell_type": "code",
   "execution_count": 65,
   "id": "5dce622c-9d08-4172-bee2-03ad8187340f",
   "metadata": {},
   "outputs": [
    {
     "name": "stdout",
     "output_type": "stream",
     "text": [
      "['One', 'Two', 'Three', 'Four']\n"
     ]
    }
   ],
   "source": [
    "# splitlines()\n",
    "\n",
    "sent11 = 'One\\nTwo\\nThree\\nFour'\n",
    "x10 = (sent11.splitlines())\n",
    "print (x10)"
   ]
  },
  {
   "cell_type": "code",
   "execution_count": 69,
   "id": "eb1f341e-83a9-4ad7-9204-d4d1feeb7cec",
   "metadata": {},
   "outputs": [
    {
     "name": "stdout",
     "output_type": "stream",
     "text": [
      "True\n"
     ]
    }
   ],
   "source": [
    "# startswith()\n",
    "\n",
    "sent12 = 'Add your own ideas'\n",
    "x11 = (sent12.startswith('Add'))\n",
    "print (x11)"
   ]
  },
  {
   "cell_type": "code",
   "execution_count": 71,
   "id": "e22ed58b-1ce9-41be-ab02-7ed606f2f61e",
   "metadata": {},
   "outputs": [
    {
     "name": "stdout",
     "output_type": "stream",
     "text": [
      "stranger\n"
     ]
    }
   ],
   "source": [
    "# strip\n",
    "\n",
    "sent13 = \"<<,,stranger,,!!ttt\"\n",
    "x12 = (sent13.strip(\"<,!t\"))\n",
    "print (x12)"
   ]
  },
  {
   "cell_type": "code",
   "execution_count": 73,
   "id": "c4d8b52b-c3eb-406c-9067-25192258400d",
   "metadata": {},
   "outputs": [
    {
     "name": "stdout",
     "output_type": "stream",
     "text": [
      "nICE TO mEET YOU\n"
     ]
    }
   ],
   "source": [
    "# swapcase()\n",
    "\n",
    "sent14 = 'Nice to Meet you'\n",
    "x13 = (sent14.swapcase())\n",
    "print (x13)"
   ]
  },
  {
   "cell_type": "code",
   "execution_count": 77,
   "id": "ae93f73c-4d66-4876-9ac4-6d6ddfdc8e0a",
   "metadata": {},
   "outputs": [
    {
     "name": "stdout",
     "output_type": "stream",
     "text": [
      "Nice To Meet You\n"
     ]
    }
   ],
   "source": [
    "# title()\n",
    "\n",
    "sent15 = 'nice to meet you'\n",
    "x14 = (sent15.title())\n",
    "print (x14)"
   ]
  },
  {
   "cell_type": "code",
   "execution_count": 89,
   "id": "f8453dfe-fb41-4499-9056-c935eb95add2",
   "metadata": {},
   "outputs": [
    {
     "name": "stdout",
     "output_type": "stream",
     "text": [
      "Hello Jiya!\n"
     ]
    }
   ],
   "source": [
    "# translate()\n",
    "\n",
    "sent16 = 'Hello Riya!'\n",
    "mytable = (sent16.maketrans('R','J'))\n",
    "print (sent16.translate(mytable))"
   ]
  },
  {
   "cell_type": "code",
   "execution_count": 79,
   "id": "de286329-42cd-481c-a6ae-8fbce534ca8a",
   "metadata": {},
   "outputs": [
    {
     "name": "stdout",
     "output_type": "stream",
     "text": [
      "THE WALKING DEAD\n"
     ]
    }
   ],
   "source": [
    "# upper()\n",
    "\n",
    "sent17 = 'The Walking Dead'\n",
    "x16 = (sent17.upper())\n",
    "print (x16)"
   ]
  },
  {
   "cell_type": "code",
   "execution_count": 83,
   "id": "6cced6e2-2ea3-4a4c-b639-1b7766163f2f",
   "metadata": {},
   "outputs": [
    {
     "name": "stdout",
     "output_type": "stream",
     "text": [
      "000Wow\n"
     ]
    }
   ],
   "source": [
    "# zfill()\n",
    "\n",
    "sent18 = 'Wow'\n",
    "x17 = (sent18.zfill(6))\n",
    "print (x17)"
   ]
  }
 ],
 "metadata": {
  "kernelspec": {
   "display_name": "Python 3 (ipykernel)",
   "language": "python",
   "name": "python3"
  },
  "language_info": {
   "codemirror_mode": {
    "name": "ipython",
    "version": 3
   },
   "file_extension": ".py",
   "mimetype": "text/x-python",
   "name": "python",
   "nbconvert_exporter": "python",
   "pygments_lexer": "ipython3",
   "version": "3.11.7"
  }
 },
 "nbformat": 4,
 "nbformat_minor": 5
}
